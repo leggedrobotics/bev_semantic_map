{
 "cells": [
  {
   "cell_type": "code",
   "execution_count": 1,
   "id": "f3cb126e-e39b-46f8-8e96-1e94cc1092e5",
   "metadata": {},
   "outputs": [],
   "source": [
    "import h5py\n",
    "\n",
    "# Replace 'your_file.h5' with the path to your HDF5 file\n",
    "file_path = '/media/patelm/T7/home/hiking_data/2024-06-25_seealpsee/seealpsee1.h5'\n",
    "\n",
    "import numpy as np"
   ]
  },
  {
   "cell_type": "code",
   "execution_count": 6,
   "id": "efa87b2b-e6c2-470d-a82b-a8fe3838a37b",
   "metadata": {},
   "outputs": [
    {
     "name": "stdout",
     "output_type": "stream",
     "text": [
      "Keys: <KeysViewHDF5 ['anymal_point_nav_ros', 'elevation_mapping', 'elevation_mapping_large', 'foot_scan', 'hdr_camera_front', 'lmm_nav_ros', 'lodia', 'open3d_slam', 'rtk_gps_driver', 'state_estimator', 'user_command_relay', 'wide_angle_camera_front']>\n",
      "Dataset Name: elevation_mapping\n",
      "Dataset Keys: <KeysViewHDF5 ['grid_map_data', 'layer_names', 'msg_t', 'msg_type', 'pose']>\n",
      "(2898, 9, 267, 267)\n"
     ]
    }
   ],
   "source": [
    "# Open the HDF5 file\n",
    "with h5py.File(file_path, 'r') as f:\n",
    "    # List all groups\n",
    "    print(\"Keys: %s\" % f.keys())\n",
    "    keys = list(f.keys())\n",
    "    \n",
    "    # Explore a specific dataset\n",
    "    dataset = f[keys[2]][\"elevation_map_raw\"]\n",
    "    print(f\"Dataset Name: {keys[1]}\")\n",
    "    print(f\"Dataset Keys: {dataset.keys()}\")\n",
    "    \n",
    "    # print(np.array(dataset[\"grid_map_data\"]).shape)\n",
    "    \n",
    "# You can now analyze 'data' further using your preferred methods"
   ]
  },
  {
   "cell_type": "code",
   "execution_count": null,
   "id": "07f069eb-e3a9-4e0a-b4af-fcf6f3ceaebe",
   "metadata": {},
   "outputs": [],
   "source": []
  }
 ],
 "metadata": {
  "kernelspec": {
   "display_name": "Python 3 (ipykernel)",
   "language": "python",
   "name": "python3"
  },
  "language_info": {
   "codemirror_mode": {
    "name": "ipython",
    "version": 3
   },
   "file_extension": ".py",
   "mimetype": "text/x-python",
   "name": "python",
   "nbconvert_exporter": "python",
   "pygments_lexer": "ipython3",
   "version": "3.8.19"
  }
 },
 "nbformat": 4,
 "nbformat_minor": 5
}
